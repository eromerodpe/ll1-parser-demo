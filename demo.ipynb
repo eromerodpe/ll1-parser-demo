{
 "cells": [
  {
   "cell_type": "code",
   "execution_count": null,
   "id": "import-and-run",
   "metadata": {},
   "outputs": [],
   "source": [
    "from parser import parse_input\n",
    "from tree_visualizer import draw_tree\n",
    "from table_generator import LL1Grammar\n",
    "\n",
    "grammar_text = open('grammar.txt').read()\n",
    "input_string = 'id + id * id'\n",
    "tree, steps = parse_input(grammar_text, input_string)\n",
    "for step in steps:\n",
    "    print(step)\n",
    "\n",
    "draw_tree(tree)"
   ]
  }
 ],
 "metadata": {
  "kernelspec": {
   "display_name": "Python 3",
   "language": "python",
   "name": "python3"
  },
  "language_info": {
   "name": "python",
   "version": "3.11"
  }
 },
 "nbformat": 4,
 "nbformat_minor": 5
}